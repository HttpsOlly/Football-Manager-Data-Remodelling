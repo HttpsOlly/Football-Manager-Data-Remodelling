#Imports
import pandas as pd
from datetime import datetime
import numpy as np

#Variables
print("How many players?")
players = int(input())
print("What is the month and year? (MMM/YYYY)")
monthAndYear = input()
print("What is the in-game date? (DD/MM/YYYY)")
gameDate = input()

#DataFrame Settings
df = pd.read_excel("HJK {monthAndYear}.xlsx".format(monthAndYear = monthAndYear))
pd.set_option('display.max_rows', 100)


#Constants
month = 31
year = 365

#Program
pos = df['Best Pos']
df.drop(['Best Pos', "No.", "Nat", "Ability", "Potential"], axis=1,inplace = True)
df.insert(0, 'Best Pos', pos)

df.loc[df['Name'].str.split().str.len() == 3, 'Name'] = df['Name'].str.split().str[-1]
df.loc[df['Name'].str.split().str.len() == 2, 'Name'] = df['Name'].str.split().str[-1]
df.loc[df['Name'].str.split().str.len() == 1, 'Name'] = df['Name'].str.split().str[-1]

df["Best Pos"].replace("D (R)", "RB", inplace=True)
df["Best Pos"].replace("D (C)", "CB", inplace=True)
df["Best Pos"].replace("D (L)", "LB", inplace=True)

df["Best Pos"].replace("M (R)", "RM", inplace=True)
df["Best Pos"].replace("M (C)", "CM", inplace=True)
df["Best Pos"].replace("M (L)", "LM", inplace=True)

df["Best Pos"].replace("AM (R)", "RW", inplace=True)
df["Best Pos"].replace("AM (C)", "AM", inplace=True)
df["Best Pos"].replace("AM (L)", "LW", inplace=True)

df["Best Pos"].replace("ST (C)", "ST", inplace=True)

df["Home-Grown Status"].replace("Trained at club (15-21)", "C", inplace=True)
df["Home-Grown Status"].replace("Trained at club (0-21)", "C", inplace=True)
df["Home-Grown Status"].replace("Trained in nation (15-21)", "H", inplace=True)
df["Home-Grown Status"].replace("Trained in nation (0-21)", "H", inplace=True)
#df["Home-Grown Status"].replace("-", "", inplace=True)
#df["Due Date"].replace("club (15-21)", "C", regex=True, inplace=True)
df["Due Date"].replace("\(club 15-21\)", "C", regex=True, inplace=True)
df["Due Date"].replace("\(nation 15-21\)", "H", regex=True, inplace=True)


df['Date'], df['Future State'] = df['Due Date'].str.split(' ', 1).str
df['Future State'] = df['Future State'].fillna("-")
df.drop(["Due Date"], axis=1,inplace = True)

df.insert(7, "Actual Date", [gameDate] * players)

df[["Actual Date",'Date']] = df[["Actual Date",'Date']].apply(pd.to_datetime, errors="coerce")


df['HGN Days'] = (df['Date'] - df['Actual Date']).dt.days
df["HGN Days"] = df["HGN Days"].fillna(0)
df.drop(["Actual Date", "Date"], axis=1,inplace = True)
df["HGN Days"] = (df["HGN Days"] / month).apply(np.ceil)

df["HGN Days"] = df["HGN Days"].astype(int)

pos = df["Home-Grown Status"]
df.drop(["Home-Grown Status"], axis=1,inplace = True)
df.insert(1, "Home-Grown Status", pos)

df['Transfer Value'], df['Maximum Value'] = df['Transfer Value'].str.split(' - ', 1).str
df.drop(["Transfer Value"], axis=1,inplace = True)
df["Maximum Value"] = df["Maximum Value"].fillna(0)

df["Home-Grown Status"].replace("-", "", regex=True, inplace=True)
df["Future State"].replace("-", "", regex=True, inplace=True)

df.rename(columns = {'Home-Grown Status':'Status', 'Future State':'Fut', "HGN Days":"Months"}, inplace = True)

pos = df["Fut"]
df.drop(["Fut"], axis=1,inplace = True)
df.insert(2, "Fut", pos)

df["Maximum Value"] = df["Maximum Value"].str.replace('£', '').str.replace('K', '000').str.replace('M', '00000').str.replace(".", "")
df["Maximum Value"] = df["Maximum Value"].fillna(0)
df["Maximum Value"] = df["Maximum Value"].astype(int)

#df = df.sort_values(by=['Maximum Value'], ascending=False)

df["HGN"] = df["Status"] + df["Fut"]
df.drop(["Maximum Value", "Status", "Fut"], axis=1,inplace = True)


pos = df['HGN']
df.drop(['HGN'], axis=1,inplace = True)
df.insert(0, 'HGN', pos)

pos = df['Months']
df.drop(['Months'], axis=1,inplace = True)
df.insert(1, 'Months', pos)

mask = df['Best Pos'].ne(df['Best Pos'].shift(-1))
df1 = pd.DataFrame('',index=mask.index[mask] + .5, columns=df.columns)
df = pd.concat([df, df1]).sort_index().reset_index(drop=True).iloc[:-1]

df.drop(['Best Pos'], axis=1,inplace = True)
df["Months"].replace(0, "", inplace=True)


df.to_excel('HJK {monthAndYear} Final.xlsx'.format(monthAndYear = monthAndYear), index=False, startrow=-1)



df
